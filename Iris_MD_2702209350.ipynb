{
  "nbformat": 4,
  "nbformat_minor": 0,
  "metadata": {
    "colab": {
      "provenance": []
    },
    "kernelspec": {
      "name": "python3",
      "display_name": "Python 3"
    },
    "language_info": {
      "name": "python"
    }
  },
  "cells": [
    {
      "cell_type": "markdown",
      "source": [
        "# Clarissa B. Kosasih | 2702209350"
      ],
      "metadata": {
        "id": "rX2HgTkiVmpk"
      }
    },
    {
      "cell_type": "code",
      "source": [
        "import pickle\n",
        "import pandas as pd\n",
        "from sklearn.datasets import load_iris\n",
        "from sklearn.model_selection import train_test_split\n",
        "from sklearn.ensemble import RandomForestClassifier\n",
        "from sklearn.metrics import accuracy_score, classification_report, confusion_matrix\n",
        "\n",
        "\n",
        "class IrisModel:\n",
        "    def __init__(self):\n",
        "        \"\"\"Inisialisasi model dan dataset\"\"\"\n",
        "        self.model = RandomForestClassifier(n_estimators=100, random_state=42)\n",
        "        self.load_data()\n",
        "\n",
        "    def load_data(self):\n",
        "        \"\"\"Load dataset Iris dan buat DataFrame\"\"\"\n",
        "        iris = load_iris()\n",
        "        self.df = pd.DataFrame(iris.data, columns=iris.feature_names)\n",
        "        self.df['species'] = iris.target  # Tambahkan kolom target\n",
        "\n",
        "        # Pisahkan fitur (X) dan label (y)\n",
        "        self.X = self.df.iloc[:, :-1]\n",
        "        self.y = self.df['species']\n",
        "\n",
        "    def train(self, test_size=0.2):\n",
        "        \"\"\"Latih model dengan data yang telah dibagi\"\"\"\n",
        "        X_train, X_test, y_train, y_test = train_test_split(self.X, self.y, test_size=test_size, random_state=42)\n",
        "        self.model.fit(X_train, y_train)\n",
        "\n",
        "        # Evaluasi model\n",
        "        y_pred = self.model.predict(X_test)\n",
        "        accuracy = accuracy_score(y_test, y_pred)\n",
        "        print(f\"Accuracy: {accuracy:.2f}\")\n",
        "        print(f\"Classification Report: {classification_report(y_test, y_pred)}\")\n",
        "        print(f\"Confusion Matrix: {confusion_matrix(y_test, y_pred)}\")\n",
        "\n",
        "    def save_model(self, filename='iris_model.pkl'):\n",
        "        \"\"\"Simpan model ke file pickle\"\"\"\n",
        "        with open(filename, 'wb') as f:\n",
        "            pickle.dump(self.model, f)\n",
        "        print(f\"Model telah disimpan sebagai {filename}\")\n",
        "\n",
        "# Inisialisasi dan jalankan training\n",
        "iris_model = IrisModel()\n",
        "iris_model.train()\n",
        "iris_model.save_model()"
      ],
      "metadata": {
        "colab": {
          "base_uri": "https://localhost:8080/"
        },
        "id": "2sKapOuPQVGL",
        "outputId": "c267f991-f9a0-4acc-f4af-a1e45a897077"
      },
      "execution_count": null,
      "outputs": [
        {
          "output_type": "stream",
          "name": "stdout",
          "text": [
            "Accuracy: 1.00\n",
            "Classification Report:               precision    recall  f1-score   support\n",
            "\n",
            "           0       1.00      1.00      1.00        10\n",
            "           1       1.00      1.00      1.00         9\n",
            "           2       1.00      1.00      1.00        11\n",
            "\n",
            "    accuracy                           1.00        30\n",
            "   macro avg       1.00      1.00      1.00        30\n",
            "weighted avg       1.00      1.00      1.00        30\n",
            "\n",
            "Confusion Matrix: [[10  0  0]\n",
            " [ 0  9  0]\n",
            " [ 0  0 11]]\n",
            "Model telah disimpan sebagai iris_model.pkl\n"
          ]
        }
      ]
    },
    {
      "cell_type": "code",
      "source": [
        "class IrisPredictor:\n",
        "    def __init__(self, model_path='iris_model.pkl'):\n",
        "        \"\"\"Load model dari file pickle\"\"\"\n",
        "        with open(model_path, 'rb') as f:\n",
        "            self.model = pickle.load(f)\n",
        "        print(f\"Model {model_path} berhasil dimuat!\")\n",
        "\n",
        "    def predict(self, sample):\n",
        "        \"\"\"Melakukan prediksi berdasarkan input fitur\"\"\"\n",
        "        pred = self.model.predict([sample])[0]\n",
        "        return pred\n",
        "\n",
        "# Contoh penggunaan\n",
        "predictor = IrisPredictor()\n",
        "sample_data = [5.1, 3.5, 1.4, 0.2]  # Sepal length, sepal width, petal length, petal width\n",
        "predicted_class = predictor.predict(sample_data)\n",
        "\n",
        "print(f\"Predicted class: {predicted_class}\")"
      ],
      "metadata": {
        "colab": {
          "base_uri": "https://localhost:8080/"
        },
        "id": "vD3C1EOJQt1T",
        "outputId": "be589376-237c-43b5-b20c-02d76cad6e0b"
      },
      "execution_count": null,
      "outputs": [
        {
          "output_type": "stream",
          "name": "stdout",
          "text": [
            "Model iris_model.pkl berhasil dimuat!\n",
            "Predicted class: 0\n"
          ]
        },
        {
          "output_type": "stream",
          "name": "stderr",
          "text": [
            "/usr/local/lib/python3.11/dist-packages/sklearn/utils/validation.py:2739: UserWarning: X does not have valid feature names, but RandomForestClassifier was fitted with feature names\n",
            "  warnings.warn(\n"
          ]
        }
      ]
    },
    {
      "cell_type": "code",
      "source": [
        "from google.colab import drive\n",
        "drive.mount('/content/drive')\n",
        "\n",
        "!cp iris_model.pkl /content/drive/MyDrive/"
      ],
      "metadata": {
        "id": "nFHxV4VwRa-X"
      },
      "execution_count": null,
      "outputs": []
    },
    {
      "cell_type": "code",
      "source": [],
      "metadata": {
        "id": "4_fSBpcBYuBh"
      },
      "execution_count": null,
      "outputs": []
    }
  ]
}